{
 "cells": [
  {
   "cell_type": "markdown",
   "id": "9227301a",
   "metadata": {},
   "source": [
    "### 1.1 Import all libraries"
   ]
  },
  {
   "cell_type": "code",
   "execution_count": 1,
   "id": "5c808c51",
   "metadata": {},
   "outputs": [],
   "source": [
    "# Data handling\n",
    "import pandas as pd\n",
    "import numpy as np\n",
    "\n",
    "# Visualization\n",
    "import matplotlib.pyplot as plt\n",
    "import seaborn as sns\n",
    "\n",
    "# Machine Learning\n",
    "from sklearn.model_selection import train_test_split\n",
    "from sklearn.ensemble import RandomForestRegressor\n",
    "from sklearn.metrics import r2_score, mean_squared_error\n",
    "\n",
    "# Deep Learning (for disease detection)\n",
    "from tensorflow.keras.preprocessing.image import ImageDataGenerator\n",
    "from tensorflow.keras.applications import MobileNetV2\n",
    "from tensorflow.keras import layers, models\n",
    "from tensorflow.keras.optimizers import Adam\n",
    "\n",
    "# Utilities\n",
    "import os\n"
   ]
  },
  {
   "cell_type": "markdown",
   "id": "d2d844e9",
   "metadata": {},
   "source": [
    "### 1.2 Load the crop yield dataset"
   ]
  },
  {
   "cell_type": "code",
   "execution_count": 2,
   "id": "1d779b67",
   "metadata": {},
   "outputs": [
    {
     "data": {
      "text/html": [
       "<div>\n",
       "<style scoped>\n",
       "    .dataframe tbody tr th:only-of-type {\n",
       "        vertical-align: middle;\n",
       "    }\n",
       "\n",
       "    .dataframe tbody tr th {\n",
       "        vertical-align: top;\n",
       "    }\n",
       "\n",
       "    .dataframe thead th {\n",
       "        text-align: right;\n",
       "    }\n",
       "</style>\n",
       "<table border=\"1\" class=\"dataframe\">\n",
       "  <thead>\n",
       "    <tr style=\"text-align: right;\">\n",
       "      <th></th>\n",
       "      <th>Year</th>\n",
       "      <th>State</th>\n",
       "      <th>District</th>\n",
       "      <th>Crop</th>\n",
       "      <th>Area (1000 ha)</th>\n",
       "      <th>Production (1000 tons)</th>\n",
       "      <th>Yield (Kg per ha)</th>\n",
       "      <th>Latitude</th>\n",
       "      <th>Longitude</th>\n",
       "      <th>Growing Season</th>\n",
       "      <th>...</th>\n",
       "      <th>Irrigation Method</th>\n",
       "      <th>Fertilizer Used (kg/ha)</th>\n",
       "      <th>Pesticide Usage (kg/ha)</th>\n",
       "      <th>Average Temperature (°C)</th>\n",
       "      <th>Total Rainfall (mm)</th>\n",
       "      <th>Humidity (%)</th>\n",
       "      <th>Solar Radiation (W/m²)</th>\n",
       "      <th>Pest Incidence (%)</th>\n",
       "      <th>Disease Incidence (%)</th>\n",
       "      <th>Previous Year Yield (Kg per ha)</th>\n",
       "    </tr>\n",
       "  </thead>\n",
       "  <tbody>\n",
       "    <tr>\n",
       "      <th>0</th>\n",
       "      <td>1966</td>\n",
       "      <td>Andhra Pradesh</td>\n",
       "      <td>Ananthapur</td>\n",
       "      <td>BARLEY</td>\n",
       "      <td>0.0</td>\n",
       "      <td>0.0</td>\n",
       "      <td>0.00</td>\n",
       "      <td>18.861663</td>\n",
       "      <td>69.931545</td>\n",
       "      <td>Rabi</td>\n",
       "      <td>...</td>\n",
       "      <td>Sprinkler</td>\n",
       "      <td>77.499244</td>\n",
       "      <td>0.339829</td>\n",
       "      <td>12.836761</td>\n",
       "      <td>1989.163404</td>\n",
       "      <td>99.954848</td>\n",
       "      <td>877.130033</td>\n",
       "      <td>78.860445</td>\n",
       "      <td>62.899684</td>\n",
       "      <td>0.000000</td>\n",
       "    </tr>\n",
       "    <tr>\n",
       "      <th>1</th>\n",
       "      <td>1966</td>\n",
       "      <td>Andhra Pradesh</td>\n",
       "      <td>Ananthapur</td>\n",
       "      <td>CASTOR</td>\n",
       "      <td>10.9</td>\n",
       "      <td>2.1</td>\n",
       "      <td>192.66</td>\n",
       "      <td>35.570715</td>\n",
       "      <td>88.417079</td>\n",
       "      <td>Zaid</td>\n",
       "      <td>...</td>\n",
       "      <td>Drip</td>\n",
       "      <td>104.609524</td>\n",
       "      <td>5.453620</td>\n",
       "      <td>11.691893</td>\n",
       "      <td>1646.565457</td>\n",
       "      <td>47.343296</td>\n",
       "      <td>657.080388</td>\n",
       "      <td>63.587315</td>\n",
       "      <td>28.616720</td>\n",
       "      <td>226.652489</td>\n",
       "    </tr>\n",
       "    <tr>\n",
       "      <th>2</th>\n",
       "      <td>1966</td>\n",
       "      <td>Andhra Pradesh</td>\n",
       "      <td>Ananthapur</td>\n",
       "      <td>CHICKPEA</td>\n",
       "      <td>2.0</td>\n",
       "      <td>1.0</td>\n",
       "      <td>500.00</td>\n",
       "      <td>29.227824</td>\n",
       "      <td>81.426770</td>\n",
       "      <td>Kharif</td>\n",
       "      <td>...</td>\n",
       "      <td>Sprinkler</td>\n",
       "      <td>72.849583</td>\n",
       "      <td>6.295011</td>\n",
       "      <td>25.108588</td>\n",
       "      <td>1940.897422</td>\n",
       "      <td>94.243966</td>\n",
       "      <td>100.950962</td>\n",
       "      <td>83.084613</td>\n",
       "      <td>38.801785</td>\n",
       "      <td>472.723823</td>\n",
       "    </tr>\n",
       "    <tr>\n",
       "      <th>3</th>\n",
       "      <td>1966</td>\n",
       "      <td>Andhra Pradesh</td>\n",
       "      <td>Ananthapur</td>\n",
       "      <td>COTTON</td>\n",
       "      <td>42.0</td>\n",
       "      <td>2.0</td>\n",
       "      <td>47.62</td>\n",
       "      <td>25.361096</td>\n",
       "      <td>71.514013</td>\n",
       "      <td>Rabi</td>\n",
       "      <td>...</td>\n",
       "      <td>Drip</td>\n",
       "      <td>169.250142</td>\n",
       "      <td>6.178908</td>\n",
       "      <td>34.626835</td>\n",
       "      <td>2104.871721</td>\n",
       "      <td>76.118179</td>\n",
       "      <td>751.248465</td>\n",
       "      <td>81.083124</td>\n",
       "      <td>59.704964</td>\n",
       "      <td>46.798309</td>\n",
       "    </tr>\n",
       "    <tr>\n",
       "      <th>4</th>\n",
       "      <td>1966</td>\n",
       "      <td>Andhra Pradesh</td>\n",
       "      <td>Ananthapur</td>\n",
       "      <td>FINGER MILLET</td>\n",
       "      <td>39.0</td>\n",
       "      <td>29.0</td>\n",
       "      <td>743.59</td>\n",
       "      <td>12.524541</td>\n",
       "      <td>83.872626</td>\n",
       "      <td>Rabi</td>\n",
       "      <td>...</td>\n",
       "      <td>Sprinkler</td>\n",
       "      <td>98.442821</td>\n",
       "      <td>9.814856</td>\n",
       "      <td>33.885312</td>\n",
       "      <td>563.980920</td>\n",
       "      <td>68.152758</td>\n",
       "      <td>612.576083</td>\n",
       "      <td>34.820268</td>\n",
       "      <td>29.856022</td>\n",
       "      <td>696.308385</td>\n",
       "    </tr>\n",
       "  </tbody>\n",
       "</table>\n",
       "<p>5 rows × 26 columns</p>\n",
       "</div>"
      ],
      "text/plain": [
       "   Year           State    District           Crop  Area (1000 ha)  \\\n",
       "0  1966  Andhra Pradesh  Ananthapur         BARLEY             0.0   \n",
       "1  1966  Andhra Pradesh  Ananthapur         CASTOR            10.9   \n",
       "2  1966  Andhra Pradesh  Ananthapur       CHICKPEA             2.0   \n",
       "3  1966  Andhra Pradesh  Ananthapur         COTTON            42.0   \n",
       "4  1966  Andhra Pradesh  Ananthapur  FINGER MILLET            39.0   \n",
       "\n",
       "   Production (1000 tons)  Yield (Kg per ha)   Latitude  Longitude  \\\n",
       "0                     0.0               0.00  18.861663  69.931545   \n",
       "1                     2.1             192.66  35.570715  88.417079   \n",
       "2                     1.0             500.00  29.227824  81.426770   \n",
       "3                     2.0              47.62  25.361096  71.514013   \n",
       "4                    29.0             743.59  12.524541  83.872626   \n",
       "\n",
       "  Growing Season  ... Irrigation Method  Fertilizer Used (kg/ha)  \\\n",
       "0           Rabi  ...         Sprinkler                77.499244   \n",
       "1           Zaid  ...              Drip               104.609524   \n",
       "2         Kharif  ...         Sprinkler                72.849583   \n",
       "3           Rabi  ...              Drip               169.250142   \n",
       "4           Rabi  ...         Sprinkler                98.442821   \n",
       "\n",
       "   Pesticide Usage (kg/ha)  Average Temperature (°C)  Total Rainfall (mm)  \\\n",
       "0                 0.339829                 12.836761          1989.163404   \n",
       "1                 5.453620                 11.691893          1646.565457   \n",
       "2                 6.295011                 25.108588          1940.897422   \n",
       "3                 6.178908                 34.626835          2104.871721   \n",
       "4                 9.814856                 33.885312           563.980920   \n",
       "\n",
       "   Humidity (%) Solar Radiation (W/m²)  Pest Incidence (%)  \\\n",
       "0     99.954848             877.130033           78.860445   \n",
       "1     47.343296             657.080388           63.587315   \n",
       "2     94.243966             100.950962           83.084613   \n",
       "3     76.118179             751.248465           81.083124   \n",
       "4     68.152758             612.576083           34.820268   \n",
       "\n",
       "   Disease Incidence (%)  Previous Year Yield (Kg per ha)  \n",
       "0              62.899684                         0.000000  \n",
       "1              28.616720                       226.652489  \n",
       "2              38.801785                       472.723823  \n",
       "3              59.704964                        46.798309  \n",
       "4              29.856022                       696.308385  \n",
       "\n",
       "[5 rows x 26 columns]"
      ]
     },
     "execution_count": 2,
     "metadata": {},
     "output_type": "execute_result"
    }
   ],
   "source": [
    "# Load your crop yield dataset\n",
    "crop_df = pd.read_csv('Updated_Crop_Yield_Prediction_Data.csv')\n",
    "\n",
    "# Display first few rows\n",
    "crop_df.head()\n"
   ]
  },
  {
   "cell_type": "markdown",
   "id": "805000c4",
   "metadata": {},
   "source": [
    "### 1.3 Explore basic info"
   ]
  },
  {
   "cell_type": "code",
   "execution_count": 3,
   "id": "3ba5073c",
   "metadata": {},
   "outputs": [
    {
     "name": "stdout",
     "output_type": "stream",
     "text": [
      "Shape: (452088, 26)\n",
      "<class 'pandas.core.frame.DataFrame'>\n",
      "RangeIndex: 452088 entries, 0 to 452087\n",
      "Data columns (total 26 columns):\n",
      " #   Column                           Non-Null Count   Dtype  \n",
      "---  ------                           --------------   -----  \n",
      " 0   Year                             452088 non-null  int64  \n",
      " 1   State                            452088 non-null  object \n",
      " 2   District                         452088 non-null  object \n",
      " 3   Crop                             452088 non-null  object \n",
      " 4   Area (1000 ha)                   452088 non-null  float64\n",
      " 5   Production (1000 tons)           371358 non-null  float64\n",
      " 6   Yield (Kg per ha)                371358 non-null  float64\n",
      " 7   Latitude                         452088 non-null  float64\n",
      " 8   Longitude                        452088 non-null  float64\n",
      " 9   Growing Season                   452088 non-null  object \n",
      " 10  Soil Type                        452088 non-null  object \n",
      " 11  Soil pH                          452088 non-null  float64\n",
      " 12  Soil Moisture (%)                452088 non-null  float64\n",
      " 13  Nitrogen (N) (%)                 452088 non-null  float64\n",
      " 14  Phosphorus (P) (%)               452088 non-null  float64\n",
      " 15  Potassium (K) (%)                452088 non-null  float64\n",
      " 16  Irrigation Method                339195 non-null  object \n",
      " 17  Fertilizer Used (kg/ha)          452088 non-null  float64\n",
      " 18  Pesticide Usage (kg/ha)          452088 non-null  float64\n",
      " 19  Average Temperature (°C)         452088 non-null  float64\n",
      " 20  Total Rainfall (mm)              452088 non-null  float64\n",
      " 21  Humidity (%)                     452088 non-null  float64\n",
      " 22  Solar Radiation (W/m²)           452088 non-null  float64\n",
      " 23  Pest Incidence (%)               452088 non-null  float64\n",
      " 24  Disease Incidence (%)            452088 non-null  float64\n",
      " 25  Previous Year Yield (Kg per ha)  371358 non-null  float64\n",
      "dtypes: float64(19), int64(1), object(6)\n",
      "memory usage: 89.7+ MB\n"
     ]
    },
    {
     "data": {
      "text/plain": [
       "Year                                    0\n",
       "State                                   0\n",
       "District                                0\n",
       "Crop                                    0\n",
       "Area (1000 ha)                          0\n",
       "Production (1000 tons)              80730\n",
       "Yield (Kg per ha)                   80730\n",
       "Latitude                                0\n",
       "Longitude                               0\n",
       "Growing Season                          0\n",
       "Soil Type                               0\n",
       "Soil pH                                 0\n",
       "Soil Moisture (%)                       0\n",
       "Nitrogen (N) (%)                        0\n",
       "Phosphorus (P) (%)                      0\n",
       "Potassium (K) (%)                       0\n",
       "Irrigation Method                  112893\n",
       "Fertilizer Used (kg/ha)                 0\n",
       "Pesticide Usage (kg/ha)                 0\n",
       "Average Temperature (°C)                0\n",
       "Total Rainfall (mm)                     0\n",
       "Humidity (%)                            0\n",
       "Solar Radiation (W/m²)                  0\n",
       "Pest Incidence (%)                      0\n",
       "Disease Incidence (%)                   0\n",
       "Previous Year Yield (Kg per ha)     80730\n",
       "dtype: int64"
      ]
     },
     "execution_count": 3,
     "metadata": {},
     "output_type": "execute_result"
    }
   ],
   "source": [
    "# Check shape and info\n",
    "print(\"Shape:\", crop_df.shape)\n",
    "crop_df.info()\n",
    "\n",
    "# Check for missing values\n",
    "crop_df.isnull().sum()\n"
   ]
  },
  {
   "cell_type": "markdown",
   "id": "82c12835",
   "metadata": {},
   "source": [
    "### 1.4 Load the PlantVillage dataset"
   ]
  },
  {
   "cell_type": "code",
   "execution_count": 4,
   "id": "560c6a3f",
   "metadata": {},
   "outputs": [
    {
     "data": {
      "text/plain": [
       "['Pepper__bell___Bacterial_spot',\n",
       " 'Pepper__bell___healthy',\n",
       " 'Potato___Early_blight',\n",
       " 'Potato___healthy',\n",
       " 'Potato___Late_blight',\n",
       " 'Tomato_Bacterial_spot',\n",
       " 'Tomato_Early_blight',\n",
       " 'Tomato_healthy',\n",
       " 'Tomato_Late_blight',\n",
       " 'Tomato_Leaf_Mold']"
      ]
     },
     "execution_count": 4,
     "metadata": {},
     "output_type": "execute_result"
    }
   ],
   "source": [
    "# Check available image folders (diseases)\n",
    "base_dir = \"PlantVillage\"\n",
    "os.listdir(base_dir)[:10]\n"
   ]
  },
  {
   "cell_type": "markdown",
   "id": "e16d5258",
   "metadata": {},
   "source": [
    "# Step 2: Data Preprocessing"
   ]
  },
  {
   "cell_type": "markdown",
   "id": "fb38e9be",
   "metadata": {},
   "source": [
    "### 2.1 Handle Missing Values"
   ]
  },
  {
   "cell_type": "code",
   "execution_count": 5,
   "id": "4b81f219",
   "metadata": {},
   "outputs": [
    {
     "name": "stderr",
     "output_type": "stream",
     "text": [
      "C:\\Users\\HP\\AppData\\Local\\Temp\\ipykernel_22496\\3357193024.py:2: FutureWarning: A value is trying to be set on a copy of a DataFrame or Series through chained assignment using an inplace method.\n",
      "The behavior will change in pandas 3.0. This inplace method will never work because the intermediate object on which we are setting values always behaves as a copy.\n",
      "\n",
      "For example, when doing 'df[col].method(value, inplace=True)', try using 'df.method({col: value}, inplace=True)' or df[col] = df[col].method(value) instead, to perform the operation inplace on the original object.\n",
      "\n",
      "\n",
      "  crop_df['Irrigation Method'].fillna(crop_df['Irrigation Method'].mode()[0], inplace=True)\n"
     ]
    }
   ],
   "source": [
    "# For irrigation method, fill missing with mode (most frequent)\n",
    "crop_df['Irrigation Method'].fillna(crop_df['Irrigation Method'].mode()[0], inplace=True)\n",
    "\n",
    "# For Yield and Previous Year Yield, drop rows with missing values\n",
    "crop_df = crop_df.dropna(subset=['Yield (Kg per ha)', 'Previous Year Yield (Kg per ha)'])\n"
   ]
  },
  {
   "cell_type": "markdown",
   "id": "f2e160f5",
   "metadata": {},
   "source": [
    "### 2.2 Convert Area to acres"
   ]
  },
  {
   "cell_type": "code",
   "execution_count": 6,
   "id": "820f136d",
   "metadata": {},
   "outputs": [],
   "source": [
    "# 1 ha = 2.47105 acres\n",
    "crop_df['Area (acres)'] = crop_df['Area (1000 ha)'] * 1000 * 2.47105\n"
   ]
  },
  {
   "cell_type": "markdown",
   "id": "1605ab85",
   "metadata": {},
   "source": [
    "### 2.3 Encode Categorical Features"
   ]
  },
  {
   "cell_type": "code",
   "execution_count": 7,
   "id": "8e181595",
   "metadata": {},
   "outputs": [],
   "source": [
    "from sklearn.preprocessing import LabelEncoder\n",
    "\n",
    "le_state = LabelEncoder()\n",
    "le_district = LabelEncoder()\n",
    "le_crop = LabelEncoder()\n",
    "le_irrigation = LabelEncoder()\n",
    "\n",
    "crop_df['State_enc'] = le_state.fit_transform(crop_df['State'])\n",
    "crop_df['District_enc'] = le_district.fit_transform(crop_df['District'])\n",
    "crop_df['Crop_enc'] = le_crop.fit_transform(crop_df['Crop'])\n",
    "crop_df['Irrigation_enc'] = le_irrigation.fit_transform(crop_df['Irrigation Method'])\n"
   ]
  },
  {
   "cell_type": "markdown",
   "id": "3f285c9f",
   "metadata": {},
   "source": [
    "### 2.4 Select Features and Target"
   ]
  },
  {
   "cell_type": "code",
   "execution_count": 8,
   "id": "3fac3068",
   "metadata": {},
   "outputs": [],
   "source": [
    "features = ['Area (acres)', 'Crop_enc', 'Previous Year Yield (Kg per ha)',\n",
    "            'Irrigation_enc', 'Average Temperature (°C)', 'Total Rainfall (mm)',\n",
    "            'Humidity (%)', 'Soil pH', 'Soil Moisture (%)', 'Nitrogen (N) (%)',\n",
    "            'Phosphorus (P) (%)', 'Potassium (K) (%)']\n",
    "\n",
    "target = 'Yield (Kg per ha)'\n",
    "\n",
    "X = crop_df[features]\n",
    "y = crop_df[target]\n"
   ]
  },
  {
   "cell_type": "markdown",
   "id": "28b9d233",
   "metadata": {},
   "source": [
    "### 2.5 Split Dataset for Training"
   ]
  },
  {
   "cell_type": "code",
   "execution_count": 9,
   "id": "1480dc30",
   "metadata": {},
   "outputs": [],
   "source": [
    "X_train, X_test, y_train, y_test = train_test_split(X, y, test_size=0.2, random_state=42)\n"
   ]
  },
  {
   "cell_type": "markdown",
   "id": "6a543ea8",
   "metadata": {},
   "source": [
    "# Step 3: Train Crop Yield Prediction Model"
   ]
  },
  {
   "cell_type": "code",
   "execution_count": 10,
   "id": "e49f9c1e",
   "metadata": {},
   "outputs": [
    {
     "name": "stdout",
     "output_type": "stream",
     "text": [
      "RMSE: 168.24234360236522\n",
      "R2 Score: 0.9824041071050899\n"
     ]
    }
   ],
   "source": [
    "# Using Random Forest Regressor\n",
    "from sklearn.ensemble import RandomForestRegressor\n",
    "from sklearn.metrics import mean_squared_error, r2_score\n",
    "\n",
    "# Initialize model\n",
    "rf_model = RandomForestRegressor(n_estimators=100, random_state=42)\n",
    "\n",
    "# Train model\n",
    "rf_model.fit(X_train, y_train)\n",
    "\n",
    "# Predict on test set\n",
    "y_pred = rf_model.predict(X_test)\n",
    "\n",
    "# Evaluate\n",
    "mse = mean_squared_error(y_test, y_pred)\n",
    "rmse = np.sqrt(mse)\n",
    "r2 = r2_score(y_test, y_pred)\n",
    "\n",
    "print(\"RMSE:\", rmse)\n",
    "print(\"R2 Score:\", r2)\n"
   ]
  },
  {
   "cell_type": "markdown",
   "id": "c6dd7d03",
   "metadata": {},
   "source": [
    "# Step 4: Save the Model"
   ]
  },
  {
   "cell_type": "code",
   "execution_count": 11,
   "id": "c56d8522",
   "metadata": {},
   "outputs": [],
   "source": [
    "import pickle\n",
    "\n",
    "# Save model\n",
    "with open('yield_model.pkl', 'wb') as f:\n",
    "    pickle.dump(rf_model, f)\n",
    "\n",
    "# Save LabelEncoders too for later use in Streamlit\n",
    "with open('le_crop.pkl', 'wb') as f:\n",
    "    pickle.dump(le_crop, f)\n",
    "with open('le_irrigation.pkl', 'wb') as f:\n",
    "    pickle.dump(le_irrigation, f)\n"
   ]
  },
  {
   "cell_type": "markdown",
   "id": "c2e5ed01",
   "metadata": {},
   "source": [
    "# Step 5: Disease Detection (DL Part)"
   ]
  },
  {
   "cell_type": "markdown",
   "id": "663f1e53",
   "metadata": {},
   "source": [
    "### 5.1 Import Libraries"
   ]
  },
  {
   "cell_type": "code",
   "execution_count": 12,
   "id": "d308273c",
   "metadata": {},
   "outputs": [],
   "source": [
    "import tensorflow as tf\n",
    "from tensorflow.keras.preprocessing.image import ImageDataGenerator\n",
    "from tensorflow.keras.applications import MobileNetV2\n",
    "from tensorflow.keras.layers import Dense, GlobalAveragePooling2D, Dropout\n",
    "from tensorflow.keras.models import Model\n",
    "from tensorflow.keras.optimizers import Adam\n"
   ]
  },
  {
   "cell_type": "markdown",
   "id": "1ed9fdf3",
   "metadata": {},
   "source": [
    "### 5.2 Define Paths"
   ]
  },
  {
   "cell_type": "code",
   "execution_count": 13,
   "id": "1303e4ef",
   "metadata": {},
   "outputs": [
    {
     "name": "stdout",
     "output_type": "stream",
     "text": [
      "['Pepper__bell___Bacterial_spot', 'Pepper__bell___healthy', 'Potato___Early_blight', 'Potato___healthy', 'Potato___Late_blight', 'Tomato_Bacterial_spot', 'Tomato_Early_blight', 'Tomato_healthy', 'Tomato_Late_blight', 'Tomato_Leaf_Mold']\n"
     ]
    }
   ],
   "source": [
    "base_dir = 'PlantVillage'\n",
    "\n",
    "# List some folders (disease classes)\n",
    "classes = os.listdir(base_dir)\n",
    "print(classes[:10])\n"
   ]
  },
  {
   "cell_type": "markdown",
   "id": "77a3bfb6",
   "metadata": {},
   "source": [
    "### 5.3 Image Data Preprocessing"
   ]
  },
  {
   "cell_type": "code",
   "execution_count": 14,
   "id": "a7ae6f7d",
   "metadata": {},
   "outputs": [
    {
     "name": "stdout",
     "output_type": "stream",
     "text": [
      "Found 16516 images belonging to 15 classes.\n",
      "Found 4122 images belonging to 15 classes.\n"
     ]
    }
   ],
   "source": [
    "# Resize images to 224x224 (for MobileNetV2)\n",
    "IMG_SIZE = (224, 224)\n",
    "BATCH_SIZE = 32\n",
    "\n",
    "train_datagen = ImageDataGenerator(\n",
    "    rescale=1./255,\n",
    "    validation_split=0.2,  # 20% for validation\n",
    "    rotation_range=20,\n",
    "    zoom_range=0.2,\n",
    "    horizontal_flip=True\n",
    ")\n",
    "\n",
    "train_generator = train_datagen.flow_from_directory(\n",
    "    base_dir,\n",
    "    target_size=IMG_SIZE,\n",
    "    batch_size=BATCH_SIZE,\n",
    "    class_mode='categorical',\n",
    "    subset='training'\n",
    ")\n",
    "\n",
    "val_generator = train_datagen.flow_from_directory(\n",
    "    base_dir,\n",
    "    target_size=IMG_SIZE,\n",
    "    batch_size=BATCH_SIZE,\n",
    "    class_mode='categorical',\n",
    "    subset='validation'\n",
    ")\n"
   ]
  },
  {
   "cell_type": "markdown",
   "id": "4e629a96",
   "metadata": {},
   "source": [
    "### 5.4 Build the CNN Model (Transfer Learning with MobileNetV2)"
   ]
  },
  {
   "cell_type": "code",
   "execution_count": 15,
   "id": "616a7a75",
   "metadata": {},
   "outputs": [],
   "source": [
    "base_model = MobileNetV2(weights='imagenet', include_top=False, input_shape=(224,224,3))\n",
    "base_model.trainable = False  # Freeze base layers\n",
    "\n",
    "x = base_model.output\n",
    "x = GlobalAveragePooling2D()(x)\n",
    "x = Dropout(0.3)(x)\n",
    "predictions = Dense(len(classes), activation='softmax')(x)\n",
    "\n",
    "model = Model(inputs=base_model.input, outputs=predictions)\n",
    "\n",
    "# Compile model\n",
    "model.compile(optimizer=Adam(learning_rate=0.0001), \n",
    "              loss='categorical_crossentropy', metrics=['accuracy'])\n"
   ]
  },
  {
   "cell_type": "markdown",
   "id": "7c37b192",
   "metadata": {},
   "source": [
    "### 5.5 Train the Model"
   ]
  },
  {
   "cell_type": "code",
   "execution_count": 16,
   "id": "6b55dd6f",
   "metadata": {},
   "outputs": [
    {
     "name": "stderr",
     "output_type": "stream",
     "text": [
      "C:\\Users\\HP\\tfenv\\lib\\site-packages\\keras\\src\\trainers\\data_adapters\\py_dataset_adapter.py:121: UserWarning: Your `PyDataset` class should call `super().__init__(**kwargs)` in its constructor. `**kwargs` can include `workers`, `use_multiprocessing`, `max_queue_size`. Do not pass these arguments to `fit()`, as they will be ignored.\n",
      "  self._warn_if_super_not_called()\n"
     ]
    },
    {
     "name": "stdout",
     "output_type": "stream",
     "text": [
      "Epoch 1/10\n",
      "\u001b[1m517/517\u001b[0m \u001b[32m━━━━━━━━━━━━━━━━━━━━\u001b[0m\u001b[37m\u001b[0m \u001b[1m577s\u001b[0m 1s/step - accuracy: 0.3311 - loss: 2.1359 - val_accuracy: 0.6293 - val_loss: 1.3529\n",
      "Epoch 2/10\n",
      "\u001b[1m517/517\u001b[0m \u001b[32m━━━━━━━━━━━━━━━━━━━━\u001b[0m\u001b[37m\u001b[0m \u001b[1m408s\u001b[0m 790ms/step - accuracy: 0.6098 - loss: 1.2650 - val_accuracy: 0.7351 - val_loss: 0.9465\n",
      "Epoch 3/10\n",
      "\u001b[1m517/517\u001b[0m \u001b[32m━━━━━━━━━━━━━━━━━━━━\u001b[0m\u001b[37m\u001b[0m \u001b[1m442s\u001b[0m 855ms/step - accuracy: 0.7022 - loss: 0.9743 - val_accuracy: 0.7754 - val_loss: 0.7822\n",
      "Epoch 4/10\n",
      "\u001b[1m517/517\u001b[0m \u001b[32m━━━━━━━━━━━━━━━━━━━━\u001b[0m\u001b[37m\u001b[0m \u001b[1m438s\u001b[0m 847ms/step - accuracy: 0.7426 - loss: 0.8368 - val_accuracy: 0.8040 - val_loss: 0.6780\n",
      "Epoch 5/10\n",
      "\u001b[1m517/517\u001b[0m \u001b[32m━━━━━━━━━━━━━━━━━━━━\u001b[0m\u001b[37m\u001b[0m \u001b[1m421s\u001b[0m 815ms/step - accuracy: 0.7739 - loss: 0.7375 - val_accuracy: 0.8159 - val_loss: 0.6196\n",
      "Epoch 6/10\n",
      "\u001b[1m517/517\u001b[0m \u001b[32m━━━━━━━━━━━━━━━━━━━━\u001b[0m\u001b[37m\u001b[0m \u001b[1m437s\u001b[0m 845ms/step - accuracy: 0.7934 - loss: 0.6733 - val_accuracy: 0.8299 - val_loss: 0.5671\n",
      "Epoch 7/10\n",
      "\u001b[1m517/517\u001b[0m \u001b[32m━━━━━━━━━━━━━━━━━━━━\u001b[0m\u001b[37m\u001b[0m \u001b[1m439s\u001b[0m 849ms/step - accuracy: 0.8039 - loss: 0.6240 - val_accuracy: 0.8409 - val_loss: 0.5343\n",
      "Epoch 8/10\n",
      "\u001b[1m517/517\u001b[0m \u001b[32m━━━━━━━━━━━━━━━━━━━━\u001b[0m\u001b[37m\u001b[0m \u001b[1m440s\u001b[0m 851ms/step - accuracy: 0.8132 - loss: 0.5937 - val_accuracy: 0.8479 - val_loss: 0.5034\n",
      "Epoch 9/10\n",
      "\u001b[1m517/517\u001b[0m \u001b[32m━━━━━━━━━━━━━━━━━━━━\u001b[0m\u001b[37m\u001b[0m \u001b[1m413s\u001b[0m 799ms/step - accuracy: 0.8200 - loss: 0.5676 - val_accuracy: 0.8481 - val_loss: 0.4833\n",
      "Epoch 10/10\n",
      "\u001b[1m517/517\u001b[0m \u001b[32m━━━━━━━━━━━━━━━━━━━━\u001b[0m\u001b[37m\u001b[0m \u001b[1m437s\u001b[0m 844ms/step - accuracy: 0.8265 - loss: 0.5450 - val_accuracy: 0.8569 - val_loss: 0.4620\n"
     ]
    }
   ],
   "source": [
    "EPOCHS = 10\n",
    "\n",
    "history = model.fit(\n",
    "    train_generator,\n",
    "    validation_data=val_generator,\n",
    "    epochs=EPOCHS\n",
    ")\n"
   ]
  },
  {
   "cell_type": "code",
   "execution_count": 17,
   "id": "b98ff61b",
   "metadata": {},
   "outputs": [
    {
     "name": "stderr",
     "output_type": "stream",
     "text": [
      "WARNING:absl:You are saving your model as an HDF5 file via `model.save()` or `keras.saving.save_model(model)`. This file format is considered legacy. We recommend using instead the native Keras format, e.g. `model.save('my_model.keras')` or `keras.saving.save_model(model, 'my_model.keras')`. \n"
     ]
    }
   ],
   "source": [
    "# Save the disease detection model\n",
    "model.save('plant_disease_model.h5')\n"
   ]
  },
  {
   "cell_type": "markdown",
   "id": "814511ec",
   "metadata": {},
   "source": [
    "### 5.6 Map Diseases to Precautions"
   ]
  },
  {
   "cell_type": "code",
   "execution_count": 18,
   "id": "65026119",
   "metadata": {},
   "outputs": [],
   "source": [
    "# ✅ Plant Disease Precautions Dictionary\n",
    "disease_precautions = {\n",
    "    # 🍅 Tomato\n",
    "    'Tomato___Bacterial_spot': 'Use certified seeds, apply copper-based fungicide, and avoid overhead watering.',\n",
    "    'Tomato___Early_blight': 'Use fungicides containing chlorothalonil or mancozeb; remove infected leaves.',\n",
    "    'Tomato___Late_blight': 'Remove infected leaves, apply metalaxyl fungicide, and improve field drainage.',\n",
    "    'Tomato___Leaf_Mold': 'Increase air circulation, reduce humidity, and apply copper-based sprays.',\n",
    "    'Tomato___Septoria_leaf_spot': 'Remove debris, rotate crops, and apply fungicides like mancozeb.',\n",
    "    'Tomato___Spider_mites_Two_spotted_spider_mite': 'Spray neem oil, avoid dry dusty conditions, and maintain field hygiene.',\n",
    "    'Tomato___Target_Spot': 'Use fungicide sprays and avoid overhead irrigation.',\n",
    "    'Tomato___Tomato_Yellow_Leaf_Curl_Virus': 'Control whiteflies, remove infected plants, and use resistant varieties.',\n",
    "    'Tomato___Tomato_mosaic_virus': 'Disinfect tools, wash hands, and use virus-free seeds.',\n",
    "    'Tomato___Healthy': 'No disease detected. Maintain good irrigation and nutrient management.',\n",
    "\n",
    "    # 🥔 Potato\n",
    "    'Potato___Early_blight': 'Use certified seed, rotate crops, and apply fungicides containing chlorothalonil.',\n",
    "    'Potato___Late_blight': 'Destroy infected plants, apply copper oxychloride spray, and avoid waterlogging.',\n",
    "    'Potato___Healthy': 'No disease detected. Continue standard fertilizer and irrigation schedule.',\n",
    "\n",
    "    # 🍌 Banana\n",
    "    'Banana___Black_sigatoka': 'Prune affected leaves, improve air circulation, and spray propiconazole.',\n",
    "    'Banana___Healthy': 'No disease detected. Keep the field clean and maintain soil fertility.',\n",
    "\n",
    "    # 🍎 Apple\n",
    "    'Apple___Apple_scab': 'Apply sulfur or copper fungicide before rainfall and prune infected branches.',\n",
    "    'Apple___Black_rot': 'Remove mummified fruits, disinfect pruning tools, and use fungicide sprays.',\n",
    "    'Apple___Cedar_apple_rust': 'Remove nearby juniper trees, spray myclobutanil fungicide, and prune infected areas.',\n",
    "    'Apple___Healthy': 'No disease detected. Regular pruning and balanced fertilization recommended.',\n",
    "\n",
    "    # 🍇 Grape\n",
    "    'Grape___Black_rot': 'Remove infected leaves and berries, apply copper fungicides, and ensure air movement.',\n",
    "    'Grape___Esca_Black_Measles': 'Avoid pruning during wet weather and remove infected vines.',\n",
    "    'Grape___Leaf_blight_Isariopsis_Leaf_Spot': 'Use mancozeb spray and ensure adequate sunlight penetration.',\n",
    "    'Grape___Healthy': 'No disease detected. Maintain pruning schedule and pest control.',\n",
    "\n",
    "    # 🍊 Citrus\n",
    "    'Citrus___Greening': 'Control psyllid insects with insecticides, remove infected trees, and use disease-free plants.',\n",
    "    'Citrus___Healthy': 'No disease detected. Maintain adequate irrigation and fertilizer balance.',\n",
    "\n",
    "    # 🌾 Corn (Maize)\n",
    "    'Corn___Cercospora_leaf_spot_Gray_leaf_spot': 'Use resistant hybrids, rotate crops, and apply fungicides early.',\n",
    "    'Corn___Common_rust': 'Plant resistant varieties and apply strobilurin fungicides when necessary.',\n",
    "    'Corn___Northern_Leaf_Blight': 'Use resistant seeds, apply mancozeb, and avoid overhead watering.',\n",
    "    'Corn___Healthy': 'No disease detected. Keep soil well-drained and avoid overcrowding.',\n",
    "\n",
    "    # 🍓 Strawberry\n",
    "    'Strawberry___Leaf_scorch': 'Remove infected leaves, improve spacing, and apply captan fungicide.',\n",
    "    'Strawberry___Healthy': 'No disease detected. Maintain proper spacing and irrigation.',\n",
    "\n",
    "    # 🌶️ Pepper (Bell)\n",
    "    'Pepper_bell___Bacterial_spot': 'Apply copper fungicide weekly and avoid working in wet fields.',\n",
    "    'Pepper_bell___Healthy': 'No disease detected. Keep soil nutrients balanced.',\n",
    "\n",
    "    # 🍠 Cassava\n",
    "    'Cassava___Bacterial_Blight': 'Use resistant varieties and disinfect tools before pruning.',\n",
    "    'Cassava___Brown_Streak_Disease': 'Use clean planting material and remove infected plants.',\n",
    "    'Cassava___Mosaic_Disease': 'Control whiteflies and use disease-free cuttings.',\n",
    "    'Cassava___Healthy': 'No disease detected. Continue normal irrigation.',\n",
    "\n",
    "    # 🍅 Other\n",
    "    'Soybean___Healthy': 'No disease detected. Maintain crop rotation and weed control.',\n",
    "    'Squash___Powdery_mildew': 'Apply sulfur-based fungicide and ensure proper ventilation.',\n",
    "    'Blueberry___Healthy': 'No disease detected. Maintain soil pH between 4.5–5.5 and avoid waterlogging.',\n",
    "    'Raspberry___Healthy': 'No disease detected. Use drip irrigation and avoid overhead watering.',\n",
    "}\n"
   ]
  },
  {
   "cell_type": "markdown",
   "id": "2db5ad46",
   "metadata": {},
   "source": [
    "# Step 6: Integration (Farmer Simulation)"
   ]
  },
  {
   "cell_type": "markdown",
   "id": "cce08507",
   "metadata": {},
   "source": [
    "### 6.1 Load the Saved Models"
   ]
  },
  {
   "cell_type": "code",
   "execution_count": 19,
   "id": "4fb3e74f",
   "metadata": {},
   "outputs": [
    {
     "name": "stderr",
     "output_type": "stream",
     "text": [
      "WARNING:absl:Compiled the loaded model, but the compiled metrics have yet to be built. `model.compile_metrics` will be empty until you train or evaluate the model.\n"
     ]
    }
   ],
   "source": [
    "import pickle\n",
    "from tensorflow.keras.models import load_model\n",
    "from tensorflow.keras.preprocessing import image\n",
    "import numpy as np\n",
    "\n",
    "# Load ML model and encoders\n",
    "with open('yield_model.pkl', 'rb') as f:\n",
    "    yield_model = pickle.load(f)\n",
    "\n",
    "with open('le_crop.pkl', 'rb') as f:\n",
    "    le_crop = pickle.load(f)\n",
    "with open('le_irrigation.pkl', 'rb') as f:\n",
    "    le_irrigation = pickle.load(f)\n",
    "\n",
    "# Load DL model\n",
    "disease_model = load_model('plant_disease_model.h5')\n"
   ]
  },
  {
   "cell_type": "markdown",
   "id": "8ec7eefc",
   "metadata": {},
   "source": [
    "### 6.2 Define the Crop Yield Prediction Function"
   ]
  },
  {
   "cell_type": "code",
   "execution_count": 20,
   "id": "b1c015ac",
   "metadata": {},
   "outputs": [],
   "source": [
    "def predict_yield(crop_name, area_acres, prev_yield, irrigation_type):\n",
    "    # Example: Auto-generated environmental values (in real case use APIs)\n",
    "    avg_temp = 30.5\n",
    "    rainfall = 110.0\n",
    "    humidity = 65.0\n",
    "    soil_ph = 6.5\n",
    "    soil_moisture = 22.3\n",
    "    nitrogen = 1.2\n",
    "    phosphorus = 0.9\n",
    "    potassium = 1.1\n",
    "\n",
    "    # Encode categorical values\n",
    "    crop_encoded = le_crop.transform([crop_name])[0]\n",
    "    irrigation_encoded = le_irrigation.transform([irrigation_type])[0]\n",
    "\n",
    "    # Create input array\n",
    "    input_data = np.array([[area_acres, crop_encoded, prev_yield, irrigation_encoded,\n",
    "                            avg_temp, rainfall, humidity, soil_ph,\n",
    "                            soil_moisture, nitrogen, phosphorus, potassium]])\n",
    "\n",
    "    # Predict yield\n",
    "    predicted_yield = yield_model.predict(input_data)[0]\n",
    "    print(f\"🌾 Predicted Crop Yield for {crop_name}: {predicted_yield:.2f} kg/ha\")\n"
   ]
  },
  {
   "cell_type": "markdown",
   "id": "250a0528",
   "metadata": {},
   "source": [
    "### 6.3 Define the Disease Detection Function"
   ]
  },
  {
   "cell_type": "code",
   "execution_count": 21,
   "id": "a3788c0e",
   "metadata": {},
   "outputs": [],
   "source": [
    "def detect_disease(img_path):\n",
    "    # Load and preprocess image\n",
    "    img = image.load_img(img_path, target_size=(224, 224))\n",
    "    img_array = image.img_to_array(img) / 255.0\n",
    "    img_array = np.expand_dims(img_array, axis=0)\n",
    "\n",
    "    # Predict\n",
    "    prediction = disease_model.predict(img_array)\n",
    "    predicted_class = np.argmax(prediction, axis=1)[0]\n",
    "    class_name = list(disease_precautions.keys())[predicted_class]\n",
    "    precaution = disease_precautions[class_name]\n",
    "\n",
    "    print(f\"🍃 Detected Disease: {class_name}\")\n",
    "    print(f\"💡 Precaution: {precaution}\")\n"
   ]
  },
  {
   "cell_type": "markdown",
   "id": "c08e4c44",
   "metadata": {},
   "source": [
    "### 6.4 Test Both Functions"
   ]
  },
  {
   "cell_type": "code",
   "execution_count": 22,
   "id": "a9970acc",
   "metadata": {},
   "outputs": [
    {
     "name": "stdout",
     "output_type": "stream",
     "text": [
      "🌾 Predicted Crop Yield for COTTON: 2470.37 kg/ha\n"
     ]
    },
    {
     "name": "stderr",
     "output_type": "stream",
     "text": [
      "C:\\Users\\HP\\tfenv\\lib\\site-packages\\sklearn\\utils\\validation.py:2749: UserWarning: X does not have valid feature names, but RandomForestRegressor was fitted with feature names\n",
      "  warnings.warn(\n"
     ]
    }
   ],
   "source": [
    "# For yield prediction:\n",
    "predict_yield('COTTON', area_acres=10, prev_yield=2500, irrigation_type='Drip')\n"
   ]
  },
  {
   "cell_type": "code",
   "execution_count": 23,
   "id": "ff860213",
   "metadata": {},
   "outputs": [
    {
     "name": "stdout",
     "output_type": "stream",
     "text": [
      "\u001b[1m1/1\u001b[0m \u001b[32m━━━━━━━━━━━━━━━━━━━━\u001b[0m\u001b[37m\u001b[0m \u001b[1m1s\u001b[0m 1s/step\n",
      "🍃 Detected Disease: Tomato___Bacterial_spot\n",
      "💡 Precaution: Use certified seeds, apply copper-based fungicide, and avoid overhead watering.\n"
     ]
    }
   ],
   "source": [
    "# For disease detection:\n",
    "detect_disease(r'C:\\Users\\HP\\Desktop\\ML Projet 2\\PlantVillage\\Pepper__bell___Bacterial_spot\\0022d6b7-d47c-4ee2-ae9a-392a53f48647___JR_B.Spot 8964.JPG')  # Replace with your test image path\n"
   ]
  },
  {
   "cell_type": "markdown",
   "id": "5cd3c0f3",
   "metadata": {},
   "source": [
    "# Step 7: Streamlit App Integration"
   ]
  },
  {
   "cell_type": "code",
   "execution_count": 24,
   "id": "ef7124ac",
   "metadata": {},
   "outputs": [],
   "source": [
    "# see it in app.py"
   ]
  },
  {
   "cell_type": "code",
   "execution_count": null,
   "id": "d211a4d7",
   "metadata": {},
   "outputs": [],
   "source": []
  },
  {
   "cell_type": "code",
   "execution_count": null,
   "id": "0248eb33",
   "metadata": {},
   "outputs": [],
   "source": []
  },
  {
   "cell_type": "code",
   "execution_count": 1,
   "id": "a486883d",
   "metadata": {},
   "outputs": [],
   "source": [
    "import os\n",
    "os.environ[\"TF_ENABLE_ONEDNN_OPTS\"] = \"0\"\n"
   ]
  },
  {
   "cell_type": "code",
   "execution_count": 1,
   "id": "624cd62a",
   "metadata": {},
   "outputs": [
    {
     "name": "stdout",
     "output_type": "stream",
     "text": [
      "TensorFlow version: 2.16.1\n"
     ]
    }
   ],
   "source": [
    "import tensorflow as tf\n",
    "import os\n",
    "\n",
    "# 🛑 Disable oneDNN optimizations to stop kernel crash\n",
    "os.environ[\"TF_ENABLE_ONEDNN_OPTS\"] = \"0\"\n",
    "\n",
    "# 🧠 Optional: Limit GPU usage (if you have one)\n",
    "os.environ[\"CUDA_VISIBLE_DEVICES\"] = \"-1\"\n",
    "\n",
    "print(\"TensorFlow version:\", tf.__version__)\n"
   ]
  },
  {
   "cell_type": "code",
   "execution_count": 3,
   "id": "674db25a",
   "metadata": {},
   "outputs": [
    {
     "name": "stderr",
     "output_type": "stream",
     "text": [
      "WARNING:absl:Compiled the loaded model, but the compiled metrics have yet to be built. `model.compile_metrics` will be empty until you train or evaluate the model.\n"
     ]
    },
    {
     "name": "stdout",
     "output_type": "stream",
     "text": [
      "INFO:tensorflow:Assets written to: plant_disease_saved_model\\assets\n"
     ]
    },
    {
     "name": "stderr",
     "output_type": "stream",
     "text": [
      "INFO:tensorflow:Assets written to: plant_disease_saved_model\\assets\n"
     ]
    },
    {
     "name": "stdout",
     "output_type": "stream",
     "text": [
      "Saved artifact at 'plant_disease_saved_model'. The following endpoints are available:\n",
      "\n",
      "* Endpoint 'serve'\n",
      "  args_0 (POSITIONAL_ONLY): TensorSpec(shape=(None, 224, 224, 3), dtype=tf.float32, name='input_layer')\n",
      "Output Type:\n",
      "  TensorSpec(shape=(None, 15), dtype=tf.float32, name=None)\n",
      "Captures:\n",
      "  2347101797392: TensorSpec(shape=(), dtype=tf.resource, name=None)\n",
      "  2347101859056: TensorSpec(shape=(), dtype=tf.resource, name=None)\n",
      "  2347101861344: TensorSpec(shape=(), dtype=tf.resource, name=None)\n",
      "  2347101854128: TensorSpec(shape=(), dtype=tf.resource, name=None)\n",
      "  2347101856592: TensorSpec(shape=(), dtype=tf.resource, name=None)\n",
      "  2347101863104: TensorSpec(shape=(), dtype=tf.resource, name=None)\n",
      "  2347101864880: TensorSpec(shape=(), dtype=tf.resource, name=None)\n",
      "  2347101865584: TensorSpec(shape=(), dtype=tf.resource, name=None)\n",
      "  2347101866816: TensorSpec(shape=(), dtype=tf.resource, name=None)\n",
      "  2347101866112: TensorSpec(shape=(), dtype=tf.resource, name=None)\n",
      "  2347101869984: TensorSpec(shape=(), dtype=tf.resource, name=None)\n",
      "  2347101867520: TensorSpec(shape=(), dtype=tf.resource, name=None)\n",
      "  2347101872448: TensorSpec(shape=(), dtype=tf.resource, name=None)\n",
      "  2347101868752: TensorSpec(shape=(), dtype=tf.resource, name=None)\n",
      "  2347101870864: TensorSpec(shape=(), dtype=tf.resource, name=None)\n",
      "  2347101874736: TensorSpec(shape=(), dtype=tf.resource, name=None)\n",
      "  2347101872272: TensorSpec(shape=(), dtype=tf.resource, name=None)\n",
      "  2347101870688: TensorSpec(shape=(), dtype=tf.resource, name=None)\n",
      "  2347101871040: TensorSpec(shape=(), dtype=tf.resource, name=None)\n",
      "  2347101875616: TensorSpec(shape=(), dtype=tf.resource, name=None)\n",
      "  2347101874560: TensorSpec(shape=(), dtype=tf.resource, name=None)\n",
      "  2347101930768: TensorSpec(shape=(), dtype=tf.resource, name=None)\n",
      "  2347101930592: TensorSpec(shape=(), dtype=tf.resource, name=None)\n",
      "  2347101878784: TensorSpec(shape=(), dtype=tf.resource, name=None)\n",
      "  2347101929888: TensorSpec(shape=(), dtype=tf.resource, name=None)\n",
      "  2347101933760: TensorSpec(shape=(), dtype=tf.resource, name=None)\n",
      "  2347101931296: TensorSpec(shape=(), dtype=tf.resource, name=None)\n",
      "  2347101936224: TensorSpec(shape=(), dtype=tf.resource, name=None)\n",
      "  2347101932528: TensorSpec(shape=(), dtype=tf.resource, name=None)\n",
      "  2347101934640: TensorSpec(shape=(), dtype=tf.resource, name=None)\n",
      "  2347101938512: TensorSpec(shape=(), dtype=tf.resource, name=None)\n",
      "  2347101936048: TensorSpec(shape=(), dtype=tf.resource, name=None)\n",
      "  2347101940976: TensorSpec(shape=(), dtype=tf.resource, name=None)\n",
      "  2347101937280: TensorSpec(shape=(), dtype=tf.resource, name=None)\n",
      "  2347101939392: TensorSpec(shape=(), dtype=tf.resource, name=None)\n",
      "  2347101943264: TensorSpec(shape=(), dtype=tf.resource, name=None)\n",
      "  2347101940800: TensorSpec(shape=(), dtype=tf.resource, name=None)\n",
      "  2347101932176: TensorSpec(shape=(), dtype=tf.resource, name=None)\n",
      "  2347101939568: TensorSpec(shape=(), dtype=tf.resource, name=None)\n",
      "  2347101944144: TensorSpec(shape=(), dtype=tf.resource, name=None)\n",
      "  2347101944320: TensorSpec(shape=(), dtype=tf.resource, name=None)\n",
      "  2347102046160: TensorSpec(shape=(), dtype=tf.resource, name=None)\n",
      "  2347102048976: TensorSpec(shape=(), dtype=tf.resource, name=None)\n",
      "  2347102044752: TensorSpec(shape=(), dtype=tf.resource, name=None)\n",
      "  2347102047392: TensorSpec(shape=(), dtype=tf.resource, name=None)\n",
      "  2347102051440: TensorSpec(shape=(), dtype=tf.resource, name=None)\n",
      "  2347102048800: TensorSpec(shape=(), dtype=tf.resource, name=None)\n",
      "  2347102053904: TensorSpec(shape=(), dtype=tf.resource, name=None)\n",
      "  2347102047568: TensorSpec(shape=(), dtype=tf.resource, name=None)\n",
      "  2347102052320: TensorSpec(shape=(), dtype=tf.resource, name=None)\n",
      "  2347102056368: TensorSpec(shape=(), dtype=tf.resource, name=None)\n",
      "  2347102053728: TensorSpec(shape=(), dtype=tf.resource, name=None)\n",
      "  2347102047216: TensorSpec(shape=(), dtype=tf.resource, name=None)\n",
      "  2347102052496: TensorSpec(shape=(), dtype=tf.resource, name=None)\n",
      "  2347102057248: TensorSpec(shape=(), dtype=tf.resource, name=None)\n",
      "  2347102059360: TensorSpec(shape=(), dtype=tf.resource, name=None)\n",
      "  2347102093728: TensorSpec(shape=(), dtype=tf.resource, name=None)\n",
      "  2347102094432: TensorSpec(shape=(), dtype=tf.resource, name=None)\n",
      "  2347102058832: TensorSpec(shape=(), dtype=tf.resource, name=None)\n",
      "  2347102094960: TensorSpec(shape=(), dtype=tf.resource, name=None)\n",
      "  2347102098832: TensorSpec(shape=(), dtype=tf.resource, name=None)\n",
      "  2347102096368: TensorSpec(shape=(), dtype=tf.resource, name=None)\n",
      "  2347102101296: TensorSpec(shape=(), dtype=tf.resource, name=None)\n",
      "  2347102097600: TensorSpec(shape=(), dtype=tf.resource, name=None)\n",
      "  2347102099712: TensorSpec(shape=(), dtype=tf.resource, name=None)\n",
      "  2347102103584: TensorSpec(shape=(), dtype=tf.resource, name=None)\n",
      "  2347102101120: TensorSpec(shape=(), dtype=tf.resource, name=None)\n",
      "  2347102099536: TensorSpec(shape=(), dtype=tf.resource, name=None)\n",
      "  2347102099888: TensorSpec(shape=(), dtype=tf.resource, name=None)\n",
      "  2347102104464: TensorSpec(shape=(), dtype=tf.resource, name=None)\n",
      "  2347102108336: TensorSpec(shape=(), dtype=tf.resource, name=None)\n",
      "  2347102143056: TensorSpec(shape=(), dtype=tf.resource, name=None)\n",
      "  2347102097248: TensorSpec(shape=(), dtype=tf.resource, name=None)\n",
      "  2347102106752: TensorSpec(shape=(), dtype=tf.resource, name=None)\n",
      "  2347102109392: TensorSpec(shape=(), dtype=tf.resource, name=None)\n",
      "  2347102146224: TensorSpec(shape=(), dtype=tf.resource, name=None)\n",
      "  2347102143584: TensorSpec(shape=(), dtype=tf.resource, name=None)\n",
      "  2347102148688: TensorSpec(shape=(), dtype=tf.resource, name=None)\n",
      "  2347102144992: TensorSpec(shape=(), dtype=tf.resource, name=None)\n",
      "  2347102147104: TensorSpec(shape=(), dtype=tf.resource, name=None)\n",
      "  2347102150976: TensorSpec(shape=(), dtype=tf.resource, name=None)\n",
      "  2347102148512: TensorSpec(shape=(), dtype=tf.resource, name=None)\n",
      "  2347102153440: TensorSpec(shape=(), dtype=tf.resource, name=None)\n",
      "  2347102147280: TensorSpec(shape=(), dtype=tf.resource, name=None)\n",
      "  2347102151856: TensorSpec(shape=(), dtype=tf.resource, name=None)\n",
      "  2347102155728: TensorSpec(shape=(), dtype=tf.resource, name=None)\n",
      "  2347102153264: TensorSpec(shape=(), dtype=tf.resource, name=None)\n",
      "  2347102151680: TensorSpec(shape=(), dtype=tf.resource, name=None)\n",
      "  2347102152032: TensorSpec(shape=(), dtype=tf.resource, name=None)\n",
      "  2347102156608: TensorSpec(shape=(), dtype=tf.resource, name=None)\n",
      "  2347102156784: TensorSpec(shape=(), dtype=tf.resource, name=None)\n",
      "  2347102226032: TensorSpec(shape=(), dtype=tf.resource, name=None)\n",
      "  2347102227968: TensorSpec(shape=(), dtype=tf.resource, name=None)\n",
      "  2347102224624: TensorSpec(shape=(), dtype=tf.resource, name=None)\n",
      "  2347102227264: TensorSpec(shape=(), dtype=tf.resource, name=None)\n",
      "  2347102231312: TensorSpec(shape=(), dtype=tf.resource, name=None)\n",
      "  2347102228672: TensorSpec(shape=(), dtype=tf.resource, name=None)\n",
      "  2347102233776: TensorSpec(shape=(), dtype=tf.resource, name=None)\n",
      "  2347102227440: TensorSpec(shape=(), dtype=tf.resource, name=None)\n",
      "  2347102232192: TensorSpec(shape=(), dtype=tf.resource, name=None)\n",
      "  2347102236064: TensorSpec(shape=(), dtype=tf.resource, name=None)\n",
      "  2347102233600: TensorSpec(shape=(), dtype=tf.resource, name=None)\n",
      "  2347102230784: TensorSpec(shape=(), dtype=tf.resource, name=None)\n",
      "  2347102232368: TensorSpec(shape=(), dtype=tf.resource, name=None)\n",
      "  2347102236944: TensorSpec(shape=(), dtype=tf.resource, name=None)\n",
      "  2347102239056: TensorSpec(shape=(), dtype=tf.resource, name=None)\n",
      "  2347102274128: TensorSpec(shape=(), dtype=tf.resource, name=None)\n",
      "  2347102275360: TensorSpec(shape=(), dtype=tf.resource, name=None)\n",
      "  2347102239936: TensorSpec(shape=(), dtype=tf.resource, name=None)\n",
      "  2347102274304: TensorSpec(shape=(), dtype=tf.resource, name=None)\n",
      "  2347102278528: TensorSpec(shape=(), dtype=tf.resource, name=None)\n",
      "  2347102276064: TensorSpec(shape=(), dtype=tf.resource, name=None)\n",
      "  2347102280992: TensorSpec(shape=(), dtype=tf.resource, name=None)\n",
      "  2347102277296: TensorSpec(shape=(), dtype=tf.resource, name=None)\n",
      "  2347102279408: TensorSpec(shape=(), dtype=tf.resource, name=None)\n",
      "  2347102283280: TensorSpec(shape=(), dtype=tf.resource, name=None)\n",
      "  2347102280816: TensorSpec(shape=(), dtype=tf.resource, name=None)\n",
      "  2347102285744: TensorSpec(shape=(), dtype=tf.resource, name=None)\n",
      "  2347102279584: TensorSpec(shape=(), dtype=tf.resource, name=None)\n",
      "  2347102284160: TensorSpec(shape=(), dtype=tf.resource, name=None)\n",
      "  2347102288208: TensorSpec(shape=(), dtype=tf.resource, name=None)\n",
      "  2347102322928: TensorSpec(shape=(), dtype=tf.resource, name=None)\n",
      "  2347102276944: TensorSpec(shape=(), dtype=tf.resource, name=None)\n",
      "  2347102287152: TensorSpec(shape=(), dtype=tf.resource, name=None)\n",
      "  2347102287504: TensorSpec(shape=(), dtype=tf.resource, name=None)\n",
      "  2347102279056: TensorSpec(shape=(), dtype=tf.resource, name=None)\n",
      "  2347102323456: TensorSpec(shape=(), dtype=tf.resource, name=None)\n",
      "  2347102328384: TensorSpec(shape=(), dtype=tf.resource, name=None)\n",
      "  2347102324688: TensorSpec(shape=(), dtype=tf.resource, name=None)\n",
      "  2347102326800: TensorSpec(shape=(), dtype=tf.resource, name=None)\n",
      "  2347102330672: TensorSpec(shape=(), dtype=tf.resource, name=None)\n",
      "  2347102328208: TensorSpec(shape=(), dtype=tf.resource, name=None)\n",
      "  2347102333136: TensorSpec(shape=(), dtype=tf.resource, name=None)\n",
      "  2347102326976: TensorSpec(shape=(), dtype=tf.resource, name=None)\n",
      "  2347102331552: TensorSpec(shape=(), dtype=tf.resource, name=None)\n",
      "  2347102335600: TensorSpec(shape=(), dtype=tf.resource, name=None)\n",
      "  2347102332960: TensorSpec(shape=(), dtype=tf.resource, name=None)\n",
      "  2347102326624: TensorSpec(shape=(), dtype=tf.resource, name=None)\n",
      "  2347102331728: TensorSpec(shape=(), dtype=tf.resource, name=None)\n",
      "  2347102336480: TensorSpec(shape=(), dtype=tf.resource, name=None)\n",
      "  2347102338592: TensorSpec(shape=(), dtype=tf.resource, name=None)\n",
      "  2347102454880: TensorSpec(shape=(), dtype=tf.resource, name=None)\n",
      "  2347102454704: TensorSpec(shape=(), dtype=tf.resource, name=None)\n",
      "  2347102456816: TensorSpec(shape=(), dtype=tf.resource, name=None)\n",
      "  2347102456112: TensorSpec(shape=(), dtype=tf.resource, name=None)\n",
      "  2347102459984: TensorSpec(shape=(), dtype=tf.resource, name=None)\n",
      "  2347102457520: TensorSpec(shape=(), dtype=tf.resource, name=None)\n",
      "  2347102462448: TensorSpec(shape=(), dtype=tf.resource, name=None)\n",
      "  2347102458752: TensorSpec(shape=(), dtype=tf.resource, name=None)\n",
      "  2347102460864: TensorSpec(shape=(), dtype=tf.resource, name=None)\n",
      "  2347102464912: TensorSpec(shape=(), dtype=tf.resource, name=None)\n",
      "  2347102462272: TensorSpec(shape=(), dtype=tf.resource, name=None)\n",
      "  2347102455408: TensorSpec(shape=(), dtype=tf.resource, name=None)\n",
      "  2347102461040: TensorSpec(shape=(), dtype=tf.resource, name=None)\n",
      "  2347102465792: TensorSpec(shape=(), dtype=tf.resource, name=None)\n",
      "  2347102467904: TensorSpec(shape=(), dtype=tf.resource, name=None)\n",
      "  2347102520416: TensorSpec(shape=(), dtype=tf.resource, name=None)\n",
      "  2347102519888: TensorSpec(shape=(), dtype=tf.resource, name=None)\n",
      "  2347102468784: TensorSpec(shape=(), dtype=tf.resource, name=None)\n",
      "  2347102519360: TensorSpec(shape=(), dtype=tf.resource, name=None)\n",
      "  2347102523760: TensorSpec(shape=(), dtype=tf.resource, name=None)\n",
      "  2347102521296: TensorSpec(shape=(), dtype=tf.resource, name=None)\n",
      "  2347102526224: TensorSpec(shape=(), dtype=tf.resource, name=None)\n",
      "  2347102522528: TensorSpec(shape=(), dtype=tf.resource, name=None)\n",
      "  2347102524640: TensorSpec(shape=(), dtype=tf.resource, name=None)\n",
      "  2347102528512: TensorSpec(shape=(), dtype=tf.resource, name=None)\n",
      "  2347102526048: TensorSpec(shape=(), dtype=tf.resource, name=None)\n",
      "  2347102530976: TensorSpec(shape=(), dtype=tf.resource, name=None)\n",
      "  2347102527280: TensorSpec(shape=(), dtype=tf.resource, name=None)\n",
      "  2347102529392: TensorSpec(shape=(), dtype=tf.resource, name=None)\n",
      "  2347102533264: TensorSpec(shape=(), dtype=tf.resource, name=None)\n",
      "  2347102530800: TensorSpec(shape=(), dtype=tf.resource, name=None)\n",
      "  2347102522176: TensorSpec(shape=(), dtype=tf.resource, name=None)\n",
      "  2347102529568: TensorSpec(shape=(), dtype=tf.resource, name=None)\n",
      "  2347102534144: TensorSpec(shape=(), dtype=tf.resource, name=None)\n",
      "  2347102534320: TensorSpec(shape=(), dtype=tf.resource, name=None)\n",
      "  2347102568512: TensorSpec(shape=(), dtype=tf.resource, name=None)\n",
      "  2347102573440: TensorSpec(shape=(), dtype=tf.resource, name=None)\n",
      "  2347102569216: TensorSpec(shape=(), dtype=tf.resource, name=None)\n",
      "  2347102571856: TensorSpec(shape=(), dtype=tf.resource, name=None)\n",
      "  2347102575904: TensorSpec(shape=(), dtype=tf.resource, name=None)\n",
      "  2347102573264: TensorSpec(shape=(), dtype=tf.resource, name=None)\n",
      "  2347102578368: TensorSpec(shape=(), dtype=tf.resource, name=None)\n",
      "  2347102572032: TensorSpec(shape=(), dtype=tf.resource, name=None)\n",
      "  2347102576784: TensorSpec(shape=(), dtype=tf.resource, name=None)\n",
      "  2347102580656: TensorSpec(shape=(), dtype=tf.resource, name=None)\n",
      "  2347102578192: TensorSpec(shape=(), dtype=tf.resource, name=None)\n",
      "  2347102576608: TensorSpec(shape=(), dtype=tf.resource, name=None)\n",
      "  2347102576960: TensorSpec(shape=(), dtype=tf.resource, name=None)\n",
      "  2347102581536: TensorSpec(shape=(), dtype=tf.resource, name=None)\n",
      "  2347102583648: TensorSpec(shape=(), dtype=tf.resource, name=None)\n",
      "  2347102650784: TensorSpec(shape=(), dtype=tf.resource, name=None)\n",
      "  2347102651488: TensorSpec(shape=(), dtype=tf.resource, name=None)\n",
      "  2347102583120: TensorSpec(shape=(), dtype=tf.resource, name=None)\n",
      "  2347102652016: TensorSpec(shape=(), dtype=tf.resource, name=None)\n",
      "  2347102656064: TensorSpec(shape=(), dtype=tf.resource, name=None)\n",
      "  2347102653424: TensorSpec(shape=(), dtype=tf.resource, name=None)\n",
      "  2347102658528: TensorSpec(shape=(), dtype=tf.resource, name=None)\n",
      "  2347102654832: TensorSpec(shape=(), dtype=tf.resource, name=None)\n",
      "  2347102656944: TensorSpec(shape=(), dtype=tf.resource, name=None)\n",
      "  2347102660992: TensorSpec(shape=(), dtype=tf.resource, name=None)\n",
      "  2347102658352: TensorSpec(shape=(), dtype=tf.resource, name=None)\n",
      "  2347102651664: TensorSpec(shape=(), dtype=tf.resource, name=None)\n",
      "  2347102657120: TensorSpec(shape=(), dtype=tf.resource, name=None)\n",
      "  2347102661872: TensorSpec(shape=(), dtype=tf.resource, name=None)\n",
      "  2347102666448: TensorSpec(shape=(), dtype=tf.resource, name=None)\n",
      "  2347102684080: TensorSpec(shape=(), dtype=tf.resource, name=None)\n",
      "  2347102654480: TensorSpec(shape=(), dtype=tf.resource, name=None)\n",
      "  2347102664160: TensorSpec(shape=(), dtype=tf.resource, name=None)\n",
      "  2347102683728: TensorSpec(shape=(), dtype=tf.resource, name=None)\n",
      "  2347102687072: TensorSpec(shape=(), dtype=tf.resource, name=None)\n",
      "  2347102684608: TensorSpec(shape=(), dtype=tf.resource, name=None)\n",
      "  2347102689536: TensorSpec(shape=(), dtype=tf.resource, name=None)\n",
      "  2347102685840: TensorSpec(shape=(), dtype=tf.resource, name=None)\n",
      "  2347102687952: TensorSpec(shape=(), dtype=tf.resource, name=None)\n",
      "  2347102691824: TensorSpec(shape=(), dtype=tf.resource, name=None)\n",
      "  2347102689360: TensorSpec(shape=(), dtype=tf.resource, name=None)\n",
      "  2347102694288: TensorSpec(shape=(), dtype=tf.resource, name=None)\n",
      "  2347102688128: TensorSpec(shape=(), dtype=tf.resource, name=None)\n",
      "  2347102692704: TensorSpec(shape=(), dtype=tf.resource, name=None)\n",
      "  2347102696576: TensorSpec(shape=(), dtype=tf.resource, name=None)\n",
      "  2347102694112: TensorSpec(shape=(), dtype=tf.resource, name=None)\n",
      "  2347102692528: TensorSpec(shape=(), dtype=tf.resource, name=None)\n",
      "  2347102692880: TensorSpec(shape=(), dtype=tf.resource, name=None)\n",
      "  2347102697456: TensorSpec(shape=(), dtype=tf.resource, name=None)\n",
      "  2347102697632: TensorSpec(shape=(), dtype=tf.resource, name=None)\n",
      "  2347102816032: TensorSpec(shape=(), dtype=tf.resource, name=None)\n",
      "  2347102817968: TensorSpec(shape=(), dtype=tf.resource, name=None)\n",
      "  2347102814624: TensorSpec(shape=(), dtype=tf.resource, name=None)\n",
      "  2347102817264: TensorSpec(shape=(), dtype=tf.resource, name=None)\n",
      "  2347102821136: TensorSpec(shape=(), dtype=tf.resource, name=None)\n",
      "  2347102818672: TensorSpec(shape=(), dtype=tf.resource, name=None)\n",
      "  2347102823600: TensorSpec(shape=(), dtype=tf.resource, name=None)\n",
      "  2347102819904: TensorSpec(shape=(), dtype=tf.resource, name=None)\n",
      "  2347102822016: TensorSpec(shape=(), dtype=tf.resource, name=None)\n",
      "  2347102825888: TensorSpec(shape=(), dtype=tf.resource, name=None)\n",
      "  2347102823424: TensorSpec(shape=(), dtype=tf.resource, name=None)\n",
      "  2347102821840: TensorSpec(shape=(), dtype=tf.resource, name=None)\n",
      "  2347102822192: TensorSpec(shape=(), dtype=tf.resource, name=None)\n",
      "  2347102826768: TensorSpec(shape=(), dtype=tf.resource, name=None)\n",
      "  2347102825712: TensorSpec(shape=(), dtype=tf.resource, name=None)\n",
      "  2347102880336: TensorSpec(shape=(), dtype=tf.resource, name=None)\n",
      "  2347102880160: TensorSpec(shape=(), dtype=tf.resource, name=None)\n",
      "  2347102829936: TensorSpec(shape=(), dtype=tf.resource, name=None)\n",
      "  2347102880688: TensorSpec(shape=(), dtype=tf.resource, name=None)\n",
      "  2347102884912: TensorSpec(shape=(), dtype=tf.resource, name=None)\n",
      "  2347102882448: TensorSpec(shape=(), dtype=tf.resource, name=None)\n",
      "  2347102887376: TensorSpec(shape=(), dtype=tf.resource, name=None)\n",
      "  2347102883680: TensorSpec(shape=(), dtype=tf.resource, name=None)\n",
      "  2347102885792: TensorSpec(shape=(), dtype=tf.resource, name=None)\n",
      "  2347102889664: TensorSpec(shape=(), dtype=tf.resource, name=None)\n",
      "  2347102887200: TensorSpec(shape=(), dtype=tf.resource, name=None)\n",
      "  2347102879984: TensorSpec(shape=(), dtype=tf.resource, name=None)\n",
      "  2347102885968: TensorSpec(shape=(), dtype=tf.resource, name=None)\n",
      "  2347102890544: TensorSpec(shape=(), dtype=tf.resource, name=None)\n",
      "  2347102894416: TensorSpec(shape=(), dtype=tf.resource, name=None)\n",
      "  2347102929136: TensorSpec(shape=(), dtype=tf.resource, name=None)\n",
      "  2347102883328: TensorSpec(shape=(), dtype=tf.resource, name=None)\n",
      "  2347102893360: TensorSpec(shape=(), dtype=tf.resource, name=None)\n",
      "  2347102893712: TensorSpec(shape=(), dtype=tf.resource, name=None)\n",
      "  2347102888256: TensorSpec(shape=(), dtype=tf.resource, name=None)\n",
      "  2347102931600: TensorSpec(shape=(), dtype=tf.resource, name=None)\n"
     ]
    },
    {
     "name": "stdout",
     "output_type": "stream",
     "text": [
      "✅ plant_disease_model.tflite successfully created!\n"
     ]
    }
   ],
   "source": [
    "import tensorflow as tf\n",
    "import os\n",
    "\n",
    "# Prevent kernel crashes\n",
    "os.environ[\"TF_ENABLE_ONEDNN_OPTS\"] = \"0\"\n",
    "os.environ[\"CUDA_VISIBLE_DEVICES\"] = \"-1\"\n",
    "\n",
    "# ✅ Load your trained .h5 model\n",
    "model = tf.keras.models.load_model(\"plant_disease_model.h5\")\n",
    "\n",
    "# ✅ Export in SavedModel format (new method for TF ≥ 2.15)\n",
    "model.export(\"plant_disease_saved_model\")\n",
    "\n",
    "# ✅ Convert to TFLite\n",
    "converter = tf.lite.TFLiteConverter.from_saved_model(\"plant_disease_saved_model\")\n",
    "tflite_model = converter.convert()\n",
    "\n",
    "# ✅ Save the .tflite file\n",
    "with open(\"plant_disease_model.tflite\", \"wb\") as f:\n",
    "    f.write(tflite_model)\n",
    "\n",
    "print(\"✅ plant_disease_model.tflite successfully created!\")\n"
   ]
  },
  {
   "cell_type": "code",
   "execution_count": null,
   "id": "0866b90f",
   "metadata": {},
   "outputs": [],
   "source": []
  }
 ],
 "metadata": {
  "kernelspec": {
   "display_name": "TensorFlow 2.16.1",
   "language": "python",
   "name": "tfenv"
  },
  "language_info": {
   "codemirror_mode": {
    "name": "ipython",
    "version": 3
   },
   "file_extension": ".py",
   "mimetype": "text/x-python",
   "name": "python",
   "nbconvert_exporter": "python",
   "pygments_lexer": "ipython3",
   "version": "3.10.11"
  }
 },
 "nbformat": 4,
 "nbformat_minor": 5
}
